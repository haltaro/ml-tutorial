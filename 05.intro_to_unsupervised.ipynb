{
 "cells": [
  {
   "cell_type": "markdown",
   "metadata": {},
   "source": [
    "# 5. 教師なし学習入門\n",
    "\n",
    "## 5.1 はじめに\n",
    "ここまでは，**教師あり学習**について簡単にご紹介しました．本ノートブックでは，**教師なし学習**について簡単にご紹介します．\n",
    "\n",
    "教師なし学習（Unsupervised learning）とは，予測対象（Target）が訓練データに存在しない学習問題を指します．\n",
    "本ノートブックでは，特に，[次元削減](https://qiita.com/aya_taka/items/4d3996b3f15aa712a54f)および[クラスタリング](http://www.kamishima.net/jp/clustering/)について，代表的な手法をご紹介します．\n",
    "[Kaggleで公開されているポケモンの種族値データ](https://www.kaggle.com/abcsds/pokemon)に対して上記の手法を適用することで，教師なし学習の雰囲気をつかむだけでなく，外部データをscikit-learnで取り扱う方法も共有できたらと思います．"
   ]
  },
  {
   "cell_type": "markdown",
   "metadata": {},
   "source": [
    "## 5.2 データ\n",
    "### 5.2.1 Pokemon with stats\n",
    "\n",
    "[Kaggle, Pokemon with stats](https://www.kaggle.com/abcsds/pokemon)から入手したものを，本レポジトリの`data`ディレクトリに保存済みです．\n",
    "[Kaggle](https://www.kaggle.com/)とは，コンペティションを開催したり，データセットを共用するためのプラットフォームです．\n",
    "今回利用するのは，パブリックドメインで公開されているデータセットで，全721種類の[ポケットモンスター](http://www.pokemon.co.jp/)の種族値をまとめたものです．\n",
    "\n",
    "* **#**:ID for each pokemon\n",
    "* **Name**: Name of each pokemon\n",
    "* **Type 1**: Each pokemon has a type, this determines weakness/resistance to attacks\n",
    "* **Type 2**: Some pokemon are dual type and have 2\n",
    "* **Total**: sum of all stats that come after this, a general guide to how strong a pokemon is\n",
    "* **HP**: hit points, or health, defines how much damage a pokemon can withstand before fainting\n",
    "* **Attack**: the base modifier for normal attacks (eg. Scratch, Punch)\n",
    "* **Defense**: the base damage resistance against normal attacks\n",
    "* **SP Atk**: special attack, the base modifier for special attacks (e.g. fire blast, bubble beam)\n",
    "* **SP Def**: the base damage resistance against special attacks\n",
    "* **Speed**: determines which pokemon attacks first each round"
   ]
  },
  {
   "cell_type": "markdown",
   "metadata": {},
   "source": [
    "### 5.2.2 目的\n",
    "\n",
    "ゲーム"
   ]
  },
  {
   "cell_type": "markdown",
   "metadata": {},
   "source": [
    "### 5.2.2 前処理"
   ]
  },
  {
   "cell_type": "markdown",
   "metadata": {},
   "source": [
    "## 5.3 次元削減\n",
    "### 5.3.1 主成分分析"
   ]
  },
  {
   "cell_type": "markdown",
   "metadata": {},
   "source": [
    "### 5.3.2 因子分析"
   ]
  },
  {
   "cell_type": "markdown",
   "metadata": {},
   "source": [
    "### 5.3.3 独立成分分析"
   ]
  },
  {
   "cell_type": "markdown",
   "metadata": {},
   "source": [
    "## 5.4 クラスタリング\n",
    "### 5.4.1 K-means"
   ]
  },
  {
   "cell_type": "code",
   "execution_count": null,
   "metadata": {},
   "outputs": [],
   "source": []
  }
 ],
 "metadata": {
  "kernelspec": {
   "display_name": "Python 3",
   "language": "python",
   "name": "python3"
  },
  "language_info": {
   "codemirror_mode": {
    "name": "ipython",
    "version": 3
   },
   "file_extension": ".py",
   "mimetype": "text/x-python",
   "name": "python",
   "nbconvert_exporter": "python",
   "pygments_lexer": "ipython3",
   "version": "3.6.3"
  }
 },
 "nbformat": 4,
 "nbformat_minor": 2
}
