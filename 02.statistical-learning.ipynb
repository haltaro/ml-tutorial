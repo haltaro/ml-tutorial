{
 "cells": [
  {
   "cell_type": "markdown",
   "metadata": {},
   "source": [
    "# 2. scikit-learnで統計的学習\n",
    "\n",
    "## 2.1 はじめに\n",
    "\n",
    "本ノートブックでは，[A tutorial on statistical-learning for scientific data processing](http://scikit-learn.org/stable/tutorial/statistical_inference/index.html)を参考に，scikit-learnにおける統計的学習について復習します．\n",
    "\n",
    "統計的学習とは，[統計的推論](https://kotobank.jp/word/%E7%B5%B1%E8%A8%88%E7%9A%84%E6%8E%A8%E8%AB%96-103447)（有限のサンプルから母集団の統計的\n",
    "特性を推し量ること）を目的とする，機械学習の一分野です．"
   ]
  },
  {
   "cell_type": "markdown",
   "metadata": {
    "collapsed": true
   },
   "source": [
    "## 2.2 下準備\n",
    "\n",
    "### Datasets\n",
    "\n",
    "scikit-learnでは，２次元配列でdatasetを表現します．一次元目をサンプル軸（samples axis），二次元目を特徴軸（features axis）と呼びます．\n",
    "\n",
    "以下は，iris datasetの例です．"
   ]
  },
  {
   "cell_type": "code",
   "execution_count": 1,
   "metadata": {},
   "outputs": [
    {
     "data": {
      "text/plain": [
       "(150, 4)"
      ]
     },
     "execution_count": 1,
     "metadata": {},
     "output_type": "execute_result"
    }
   ],
   "source": [
    "from sklearn import datasets\n",
    "iris = datasets.load_iris()\n",
    "data = iris.data\n",
    "data.shape"
   ]
  },
  {
   "cell_type": "markdown",
   "metadata": {},
   "source": [
    "それぞれ4つのfeature（萼片長，萼片幅，花弁長，花弁幅）を持つsampleが150個あることを示しています．詳細は，`iris.DESCR`をご参照ください．"
   ]
  },
  {
   "cell_type": "code",
   "execution_count": 2,
   "metadata": {},
   "outputs": [
    {
     "data": {
      "text/plain": [
       "'Iris Plants Database\\n====================\\n\\nNotes\\n-----\\nData Set Characteristics:\\n    :Number of Instances: 150 (50 in each of three classes)\\n    :Number of Attributes: 4 numeric, predictive attributes and the class\\n    :Attribute Information:\\n        - sepal length in cm\\n        - sepal width in cm\\n        - petal length in cm\\n        - petal width in cm\\n        - class:\\n                - Iris-Setosa\\n                - Iris-Versicolour\\n                - Iris-Virginica\\n    :Summary Statistics:\\n\\n    ============== ==== ==== ======= ===== ====================\\n                    Min  Max   Mean    SD   Class Correlation\\n    ============== ==== ==== ======= ===== ====================\\n    sepal length:   4.3  7.9   5.84   0.83    0.7826\\n    sepal width:    2.0  4.4   3.05   0.43   -0.4194\\n    petal length:   1.0  6.9   3.76   1.76    0.9490  (high!)\\n    petal width:    0.1  2.5   1.20  0.76     0.9565  (high!)\\n    ============== ==== ==== ======= ===== ====================\\n\\n    :Missing Attribute Values: None\\n    :Class Distribution: 33.3% for each of 3 classes.\\n    :Creator: R.A. Fisher\\n    :Donor: Michael Marshall (MARSHALL%PLU@io.arc.nasa.gov)\\n    :Date: July, 1988\\n\\nThis is a copy of UCI ML iris datasets.\\nhttp://archive.ics.uci.edu/ml/datasets/Iris\\n\\nThe famous Iris database, first used by Sir R.A Fisher\\n\\nThis is perhaps the best known database to be found in the\\npattern recognition literature.  Fisher\\'s paper is a classic in the field and\\nis referenced frequently to this day.  (See Duda & Hart, for example.)  The\\ndata set contains 3 classes of 50 instances each, where each class refers to a\\ntype of iris plant.  One class is linearly separable from the other 2; the\\nlatter are NOT linearly separable from each other.\\n\\nReferences\\n----------\\n   - Fisher,R.A. \"The use of multiple measurements in taxonomic problems\"\\n     Annual Eugenics, 7, Part II, 179-188 (1936); also in \"Contributions to\\n     Mathematical Statistics\" (John Wiley, NY, 1950).\\n   - Duda,R.O., & Hart,P.E. (1973) Pattern Classification and Scene Analysis.\\n     (Q327.D83) John Wiley & Sons.  ISBN 0-471-22361-1.  See page 218.\\n   - Dasarathy, B.V. (1980) \"Nosing Around the Neighborhood: A New System\\n     Structure and Classification Rule for Recognition in Partially Exposed\\n     Environments\".  IEEE Transactions on Pattern Analysis and Machine\\n     Intelligence, Vol. PAMI-2, No. 1, 67-71.\\n   - Gates, G.W. (1972) \"The Reduced Nearest Neighbor Rule\".  IEEE Transactions\\n     on Information Theory, May 1972, 431-433.\\n   - See also: 1988 MLC Proceedings, 54-64.  Cheeseman et al\"s AUTOCLASS II\\n     conceptual clustering system finds 3 classes in the data.\\n   - Many, many more ...\\n'"
      ]
     },
     "execution_count": 2,
     "metadata": {},
     "output_type": "execute_result"
    }
   ],
   "source": [
    "iris.DESCR"
   ]
  },
  {
   "cell_type": "markdown",
   "metadata": {},
   "source": [
    "外部データに対しscikit-learnを使う際は，そのデータの形状を`(n_samples, n_features)`に整える必要があります．\n",
    "\n",
    "### 予測器（Estimator）\n",
    "\n",
    "**フィッティング**：scikit-learnの主なAPIは，与えれたデータに予測器をフィッティングさせるためのものです．予測器は，データからあらゆる学習問題（分類，回帰，クラスタリング，次元削減）に対応可能です．\n",
    "\n",
    "全ての予測器に対し，`fit`メソッドを介してdatasetを入力できます．"
   ]
  },
  {
   "cell_type": "code",
   "execution_count": 3,
   "metadata": {},
   "outputs": [
    {
     "data": {
      "text/plain": [
       "SVC(C=1.0, cache_size=200, class_weight=None, coef0=0.0,\n",
       "  decision_function_shape='ovr', degree=3, gamma='auto', kernel='rbf',\n",
       "  max_iter=-1, probability=False, random_state=None, shrinking=True,\n",
       "  tol=0.001, verbose=False)"
      ]
     },
     "execution_count": 3,
     "metadata": {},
     "output_type": "execute_result"
    }
   ],
   "source": [
    "from sklearn import svm\n",
    "clf = svm.SVC()\n",
    "clf.fit(iris.data[:-1], iris.target[:-1])"
   ]
  },
  {
   "cell_type": "markdown",
   "metadata": {},
   "source": [
    "**Parameter**：予測器の全てのparameterは，初期化時に設定することもできますし，別途変数として直接設定することもできます．"
   ]
  },
  {
   "cell_type": "code",
   "execution_count": 4,
   "metadata": {
    "collapsed": true
   },
   "outputs": [],
   "source": [
    "clf2 = svm.SVC(gamma=0.001)"
   ]
  },
  {
   "cell_type": "code",
   "execution_count": 5,
   "metadata": {
    "collapsed": true
   },
   "outputs": [],
   "source": [
    "clf2.gamma=0.01"
   ]
  },
  {
   "cell_type": "markdown",
   "metadata": {},
   "source": [
    "**Estimated parameter**：学習の結果，予測器は幾つかのパラメータを調整します．これらパラメータはアンダーバー（`*_`）で終わるattributeとして，ユーザに提供されます．"
   ]
  },
  {
   "cell_type": "code",
   "execution_count": 6,
   "metadata": {},
   "outputs": [
    {
     "data": {
      "text/plain": [
       "array([ 13,  15,  18,  23,  24,  41,  44,  50,  52,  54,  56,  57,  60,\n",
       "        63,  66,  68,  70,  72,  76,  77,  78,  83,  84,  86,  98, 100,\n",
       "       106, 110, 118, 119, 121, 123, 126, 127, 129, 131, 133, 134, 138,\n",
       "       141, 142, 146, 147])"
      ]
     },
     "execution_count": 6,
     "metadata": {},
     "output_type": "execute_result"
    }
   ],
   "source": [
    "clf.support_"
   ]
  },
  {
   "cell_type": "markdown",
   "metadata": {},
   "source": [
    "## 2.3 教師あり学習\n",
    "\n",
    "[教師あり学習（supervised learning）]()では，観測データ`x`とターゲット（ラベル）データ`y`の関係性を学習します．多くの場合，`y`は長さ`n_sample`の一次元配列です．\n",
    "\n",
    "scikit-learnの全ての教師あり学習向け予測器は，フィッティングのための`fit(x, y)`メソッドと，未知の入力`x`から`y`を予測するための`predict(x)`メソッドを持ちます．\n",
    "\n",
    "与えられたデータの（有限個の）ラベルを予測するとき，**分類**問題と呼びます．一方で，データの（連続的な）変数を予測するとき，**回帰**問題と呼びます．scikit-learnにおける分類問題では，`y`は整数ベクトルか文字列で表現されます．\n",
    "\n",
    "機械学習分野の専門用語については，[Introduction to machine learning with scikit-learn Tutorial]()をご参照ください．\n",
    "\n",
    "**タスク**：リンクを追加すること．\n",
    "\n",
    "### 最近傍法と次元の呪い\n",
    "\n",
    "`iris`データセットを使い，4つの特徴量から，3種類のアヤメ（setosa，versicolor，virginica）を分類する問題に挑戦します．まずは，散布図をプロットしてみます．"
   ]
  },
  {
   "cell_type": "code",
   "execution_count": 18,
   "metadata": {
    "collapsed": true
   },
   "outputs": [],
   "source": [
    "% matplotlib inline\n",
    "import matplotlib.pyplot as plt\n",
    "from sklearn import datasets"
   ]
  },
  {
   "cell_type": "code",
   "execution_count": 20,
   "metadata": {},
   "outputs": [
    {
     "data": {
      "text/plain": [
       "(-0.40000000000000002, 3.0)"
      ]
     },
     "execution_count": 20,
     "metadata": {},
     "output_type": "execute_result"
    },
    {
     "data": {
      "image/png": "[encoded data removed]",
      "text/plain": [
       "<matplotlib.figure.Figure at 0xb23c710>"
      ]
     },
     "metadata": {},
     "output_type": "display_data"
    }
   ],
   "source": [
    "iris = datasets.load_iris()\n",
    "X = iris.data\n",
    "y = iris.target\n",
    "\n",
    "plt.figure(figsize=(12,4))\n",
    "\n",
    "plt.subplot(1, 2, 1)\n",
    "x_min, x_max = X[:, 0].min() - .5, X[:, 0].max() + .5 # x axis\n",
    "y_min, y_max = X[:, 1].min() - .5, X[:, 1].max() + .5 # y axis\n",
    "\n",
    "plt.scatter(X[y==0, 0], X[y==0, 1], c='y', cmap=plt.cm.Set1, edgecolor='k', label=iris.target_names[0])\n",
    "plt.scatter(X[y==1, 0], X[y==1, 1], c='b', cmap=plt.cm.Set1, edgecolor='k', label=iris.target_names[1])\n",
    "plt.scatter(X[y==2, 0], X[y==2, 1], c='r', cmap=plt.cm.Set1, edgecolor='k', label=iris.target_names[2])\n",
    "plt.xlabel('Sepal length')\n",
    "plt.ylabel('Sepal width')\n",
    "plt.legend()\n",
    "\n",
    "plt.xlim(x_min, x_max)\n",
    "plt.ylim(y_min, y_max)\n",
    "\n",
    "plt.subplot(1, 2, 2)\n",
    "x_min, x_max = X[:, 2].min() - .5, X[:, 2].max() + .5 # x axis\n",
    "y_min, y_max = X[:, 3].min() - .5, X[:, 3].max() + .5 # y axis\n",
    "\n",
    "plt.scatter(X[y==0, 2], X[y==0, 3], c='y', cmap=plt.cm.Set1, edgecolor='k', label=iris.target_names[0])\n",
    "plt.scatter(X[y==1, 2], X[y==1, 3], c='b', cmap=plt.cm.Set1, edgecolor='k', label=iris.target_names[1])\n",
    "plt.scatter(X[y==2, 2], X[y==2, 3], c='r', cmap=plt.cm.Set1, edgecolor='k', label=iris.target_names[2])\n",
    "plt.xlabel('Petal length')\n",
    "plt.ylabel('Petal width')\n",
    "plt.legend()\n",
    "\n",
    "plt.xlim(x_min, x_max)\n",
    "plt.ylim(y_min, y_max)\n",
    "\n"
   ]
  },
  {
   "cell_type": "markdown",
   "metadata": {},
   "source": [
    "見た感じ，`Petal length`と`Petal width`に着目すれば分類できそうですが…．"
   ]
  },
  {
   "cell_type": "markdown",
   "metadata": {},
   "source": [
    "## 2.4 モデル選択"
   ]
  },
  {
   "cell_type": "markdown",
   "metadata": {},
   "source": [
    "## 2.5 教師なし学習"
   ]
  },
  {
   "cell_type": "markdown",
   "metadata": {},
   "source": [
    "## 2.6 まとめ"
   ]
  },
  {
   "cell_type": "markdown",
   "metadata": {},
   "source": [
    "## 2.7 ヘルプ"
   ]
  }
 ],
 "metadata": {
  "kernelspec": {
   "display_name": "Python 3",
   "language": "python",
   "name": "python3"
  },
  "language_info": {
   "codemirror_mode": {
    "name": "ipython",
    "version": 3
   },
   "file_extension": ".py",
   "mimetype": "text/x-python",
   "name": "python",
   "nbconvert_exporter": "python",
   "pygments_lexer": "ipython3",
   "version": "3.6.3"
  }
 },
 "nbformat": 4,
 "nbformat_minor": 2
}
