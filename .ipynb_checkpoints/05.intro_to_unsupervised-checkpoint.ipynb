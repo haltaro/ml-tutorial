{
 "cells": [
  {
   "cell_type": "markdown",
   "metadata": {},
   "source": [
    "# 5. 教師なし学習入門\n",
    "\n",
    "## 5.1 はじめに\n",
    "[1.scikit-learn入門](https://github.com/haltaro/ml-tutorial/blob/master/01.intro_to_scikit-learn.ipynb)でご紹介したように，機械学習は，教師あり学習（Supervised learning）と教師なし学習（Unsupervised learning）に大別されます．\n",
    "本ノートブックでは，教師なし学習について簡単にご紹介します．\n",
    "\n",
    "教師なし学習（Unsupervised learning）とは，予測対象（Target）が訓練データに存在しない学習問題を指します．\n",
    "今回は特に，[次元削減（次元圧縮）](https://qiita.com/aya_taka/items/4d3996b3f15aa712a54f)および[クラスタリング](http://www.kamishima.net/jp/clustering/)について，代表的な手法をご紹介します．"
   ]
  },
  {
   "cell_type": "markdown",
   "metadata": {},
   "source": [
    "## 5.2 次元削減\n",
    "### 5.2.1 主成分分析"
   ]
  },
  {
   "cell_type": "markdown",
   "metadata": {},
   "source": [
    "### 5.2.2 因子分析"
   ]
  },
  {
   "cell_type": "markdown",
   "metadata": {},
   "source": [
    "### 5.2.3 独立成分分析"
   ]
  },
  {
   "cell_type": "markdown",
   "metadata": {},
   "source": [
    "## 5.3 クラスタリング\n",
    "### 5.3.1 K-means"
   ]
  },
  {
   "cell_type": "code",
   "execution_count": null,
   "metadata": {},
   "outputs": [],
   "source": []
  }
 ],
 "metadata": {
  "kernelspec": {
   "display_name": "Python 3",
   "language": "python",
   "name": "python3"
  },
  "language_info": {
   "codemirror_mode": {
    "name": "ipython",
    "version": 3
   },
   "file_extension": ".py",
   "mimetype": "text/x-python",
   "name": "python",
   "nbconvert_exporter": "python",
   "pygments_lexer": "ipython3",
   "version": "3.6.3"
  }
 },
 "nbformat": 4,
 "nbformat_minor": 2
}
