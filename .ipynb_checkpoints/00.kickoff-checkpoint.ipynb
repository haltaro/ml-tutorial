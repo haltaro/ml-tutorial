{
 "cells": [
  {
   "cell_type": "markdown",
   "metadata": {},
   "source": [
    "# 0. キックオフ\n",
    "\n",
    "## はじめに\n",
    "\n",
    "機械学習の基礎を，二ヶ月で一通り復習します．\n",
    "\n",
    "## 環境構築\n",
    "\n",
    "言語は[python3](https://www.python.org/)と[R](https://www.r-project.org/)を想定します．環境設定ファイルは，`env.yml`です．`conda`コマンドが使える場合は，以下で仮想環境を構築できます．\n",
    "\n",
    "```bash\n",
    "$ conda create --file env.yml\n",
    "$ activate ml #MacやLinuxの場合は，source activate mlかも．\n",
    "```\n",
    "\n",
    "## 参考\n",
    "\n",
    "本勉強会では，以下を参考にします．\n",
    "\n",
    "* [Scikit-learn tutorials](http://scikit-learn.org/stable/tutorial/index.html)：Pythonの機械学習ライブラリであるscikit-learnのチュートリアルです．今回はテキスト処理は割愛します．\n",
    "* [久保拓哉，データ解析のための統計モデリング入門](http://amzn.asia/g3XaAKg)：データ解析の代表的な教科書です．Rのソースコードつき．\n",
    "\n",
    "## 全体計画\n",
    "\n",
    "毎週木曜の夕方に開催します．\n",
    "\n",
    "|#|日付|テーマ|\n",
    "|:--|:--|:--|\n",
    "|1|10/26|Scikit-learn入門(1/2)|\n",
    "|2|11/2|Scikit-learn入門(2/2)|\n",
    "|3|11/9|Scikit-learnで統計的学習(1/2)|\n",
    "|4|11/16|Scikit-learnで統計的学習(2/2)|\n",
    "|5|11/23|未定|\n",
    "|6|11/30|未定|\n",
    "|7|12/7|未定|\n",
    "|8|12/14|未定|\n",
    "|9|12/21|未定|"
   ]
  },
  {
   "cell_type": "code",
   "execution_count": null,
   "metadata": {
    "collapsed": true
   },
   "outputs": [],
   "source": []
  }
 ],
 "metadata": {
  "kernelspec": {
   "display_name": "Python 3",
   "language": "python",
   "name": "python3"
  },
  "language_info": {
   "codemirror_mode": {
    "name": "ipython",
    "version": 3
   },
   "file_extension": ".py",
   "mimetype": "text/x-python",
   "name": "python",
   "nbconvert_exporter": "python",
   "pygments_lexer": "ipython3",
   "version": "3.5.4"
  }
 },
 "nbformat": 4,
 "nbformat_minor": 2
}
