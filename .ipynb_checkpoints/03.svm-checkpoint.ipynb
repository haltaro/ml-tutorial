{
 "cells": [
  {
   "cell_type": "markdown",
   "metadata": {},
   "source": [
    "# 3. Support vector machine\n",
    "\n",
    "## 3.1 はじめに\n",
    "\n",
    "本ノートブックでは，[A tutorial on statistical-learning for scientific data processing](http://scikit-learn.org/stable/tutorial/statistical_inference/index.html)を参考に，Support Vector Machine（SVM）について学びます．\n",
    "\n",
    "[Support vector machine](https://ja.wikipedia.org/wiki/%E3%82%B5%E3%83%9D%E3%83%BC%E3%83%88%E3%83%99%E3%82%AF%E3%82%BF%E3%83%BC%E3%83%9E%E3%82%B7%E3%83%B3)は，現在知られている手法の中でも認識性能が優れたモデルの一つであり，分類および回帰の両方に適用可能です．詳細は[栗田多喜夫，サポートベクターマシン入門](http://home.hiroshima-u.ac.jp/tkurita/lecture/svm.pdf)や[C. M. ビショップ，パターン認識と機械学習](http://amzn.asia/0OTDQtT)をご参照ください．\n",
    "\n",
    "## 3.2 線形SVM\n",
    "\n",
    "最も単純なSVMは，1963年に提案された線形SVMです．\n",
    "\n",
    "<img src=\"fig/hard_svm.png\" width=\"480px\">\n",
    "\n",
    "観測$\\mathbf{x_n}$に対して，下式でラベル$y_n \\in \\{-1, 1\\}$を予測することを考えます．\n",
    "\n",
    "$\\hat{y}_n = \\mathrm{sign}(\\mathbf{w}^T \\mathbf{x}_n + b$)\n",
    "\n",
    "ここで，$\\mathrm{sign}(\\cdot)$は，入力が非負のとき1を，負のとき-1を返す関数です．\n",
    "\n",
    "<img src=\"fig/soft_svm.png\" width=\"360px\">\n",
    "\n",
    "<img src=\"fig/phi.png\" width=\"480px\">"
   ]
  },
  {
   "cell_type": "code",
   "execution_count": null,
   "metadata": {
    "collapsed": true
   },
   "outputs": [],
   "source": []
  }
 ],
 "metadata": {
  "kernelspec": {
   "display_name": "Python 3",
   "language": "python",
   "name": "python3"
  },
  "language_info": {
   "codemirror_mode": {
    "name": "ipython",
    "version": 3
   },
   "file_extension": ".py",
   "mimetype": "text/x-python",
   "name": "python",
   "nbconvert_exporter": "python",
   "pygments_lexer": "ipython3",
   "version": "3.6.3"
  }
 },
 "nbformat": 4,
 "nbformat_minor": 2
}
